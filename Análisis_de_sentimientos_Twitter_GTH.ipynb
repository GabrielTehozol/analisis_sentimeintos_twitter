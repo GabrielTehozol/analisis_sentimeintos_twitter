{
  "nbformat": 4,
  "nbformat_minor": 0,
  "metadata": {
    "colab": {
      "provenance": []
    },
    "kernelspec": {
      "name": "python3",
      "display_name": "Python 3"
    },
    "language_info": {
      "name": "python"
    }
  },
  "cells": [
    {
      "cell_type": "markdown",
      "source": [
        "##**Análisis de entimientos Twitter**\n",
        "* Elabrado por:\n",
        "Gabriel Tehozol \n",
        "* Contacto:\n",
        "gabrieltehozol@gmail.com"
      ],
      "metadata": {
        "id": "92FgavOl1XQH"
      }
    },
    {
      "cell_type": "markdown",
      "source": [
        "Este código es un programa de análisis sentimental que utiliza la biblioteca Python Tweepy para acceder a la API de Twitter, y luego utiliza TextBlob y visualizar los tweets recolectados. El código comienza importando varias bibliotecas necesarias para el procesamiento de datos y la autenticación de la API de Twitter. Luego, utiliza las credenciales de la API de Twitter para autenticar y crear un objeto API. A continuación, el código utiliza la búsqueda de Tweepy para recolectar tweets que contengan la palabra \"México\" en español. Estos tweets se imprimen y luego se guardan en un dataframe de Pandas. Finalmente, el código define una función para limpiar el texto de los tweets y se aplica a los tweets almacenados en el dataframe."
      ],
      "metadata": {
        "id": "b2uyotmW2A75"
      }
    },
    {
      "cell_type": "markdown",
      "source": [
        "El siguiente código importa varias librerías para un proyecto de análisis de Twitter.\n",
        "\n",
        "* La librería [tweepy](https://www.tweepy.org/) se utiliza para acceder a la API de Twitter.\n",
        "* [textblob](https://textblob.readthedocs.io/en/dev/) se utiliza para realizar el análisis de sentimiento en los tweets recolectados.\n",
        "* [wordcloud](https://amueller.github.io/word_cloud/) se utiliza para crear una nube de palabras a partir de los tweets recolectados.\n",
        "* [pandas](https://pandas.pydata.org/) y [numpy](https://numpy.org/) se utilizan para manipular y analizar datos.\n",
        "* [re](https://docs.python.org/3/library/re.html) se utiliza para limpiar y procesar los datos de los tweets.\n",
        "* [time](https://docs.python.org/3/library/time.html) se utiliza para esperar entre solicitudes de la API de Twitter.\n",
        "* string se utiliza para limpiar los caracteres especiales de los tweets.\n",
        "* [matplotlib](https://matplotlib.org/).pyplot se utiliza para crear gráficos y visualizaciones a partir de los datos recolectados. Además, establece el estilo de los gráficos a utilizar con el estilo \"fivethirtyeight\"."
      ],
      "metadata": {
        "id": "4z1wd4kwB7jX"
      }
    },
    {
      "cell_type": "code",
      "source": [
        "# Importamos librearías\n",
        "import tweepy\n",
        "from textblob import TextBlob\n",
        "from wordcloud import WordCloud \n",
        "import pandas as pd\n",
        "import numpy as np\n",
        "import re\n",
        "import time\n",
        "import string\n",
        "import matplotlib.pyplot as plt \n",
        "plt.style.use('fivethirtyeight')"
      ],
      "metadata": {
        "id": "qd9PSsBiDijB"
      },
      "execution_count": 42,
      "outputs": []
    },
    {
      "cell_type": "markdown",
      "source": [
        "El siguiente código contiene las credenciales necesarias para conectarse a la API de Twitter.\n",
        "\n",
        "**clave_consumidor** es la clave pública de la aplicación.\n",
        "**clave_secreta** es el secreto de la aplicación.\n",
        "**token_acceso** es el token de acceso de un usuario autorizado para usar la aplicación.\n",
        "**token_secreto** es el secreto del token de acceso.\n",
        "Estas credenciales son necesarias para autenticar la aplicación y poder acceder a los datos de Twitter. En este caso, las credenciales están representadas por una serie de \"X\" ya que son información confidencial y no se deben compartir públicamente.\n",
        "\n",
        "Una forma mejor de manejar las credenciales es guardarlas en un archivo separado y llamarlas en el código principal, esto evita exponer las credenciales en el código."
      ],
      "metadata": {
        "id": "CNQArKkQE5I1"
      }
    },
    {
      "cell_type": "code",
      "source": [
        "# Credenciales API de Twitter\n",
        "clave_consumidor = \"XXXXXXXXXXXXXXXXXXXXXXXXXXXXXXXXXXXXX\"\n",
        "clave_secreta = \"XXXXXXXXXXXXXXXXXXXXXXXXXXXXXXXXXXXXX\"\n",
        "token_acceso = \"XXXXXXXXXXXXXXXXXXXXXXXXXXXXXXXXXXXXX\"\n",
        "token_secreto = \"XXXXXXXXXXXXXXXXXXXXXXXXXXXXXXXXXXXXX\""
      ],
      "metadata": {
        "id": "TkrkA8nsEL57"
      },
      "execution_count": 43,
      "outputs": []
    },
    {
      "cell_type": "markdown",
      "source": [
        "El siguiente código es una función llamada create_api() que se utiliza para autenticar y establecer una conexión a la API de Twitter.\n",
        "\n",
        "En el cuerpo de la función se crea un objeto de autenticación utilizando la librería tweepy y las credenciales **clave_consumidor** y **clave_secreta**. Luego, se establecen los tokens de acceso **token_acceso** y **token_secreto** en el objeto de autenticación. Por último, se crea un objeto de la clase API utilizando el objeto de autenticación recién creado y se establece la opción \"wait_on_rate_limit\" en \"True\"."
      ],
      "metadata": {
        "id": "Pz-BeC47Ge93"
      }
    },
    {
      "cell_type": "code",
      "source": [
        "# Creamos una función que recolecte las claves \n",
        "def crear_api(clave_consumidor, clave_secreta, token_acceso, token_secreto):\n",
        "    authenticate = tweepy.OAuthHandler(clave_consumidor, clave_secreta)\n",
        "    authenticate.set_access_token(token_acceso, token_secreto)\n",
        "    api = tweepy.API(authenticate, wait_on_rate_limit = True)\n",
        "    return api"
      ],
      "metadata": {
        "id": "lerA_cf4FEYo"
      },
      "execution_count": 45,
      "outputs": []
    },
    {
      "cell_type": "markdown",
      "source": [
        "hora, se pasan las credenciales como argumentos y se asigna el valor de retorno a una variable"
      ],
      "metadata": {
        "id": "Phx9jzVWHK_o"
      }
    },
    {
      "cell_type": "code",
      "source": [
        "api = crear_api(clave_consumidor, clave_secreta, token_acceso, token_secreto)"
      ],
      "metadata": {
        "id": "mAaLznNRHPZJ"
      },
      "execution_count": 46,
      "outputs": []
    },
    {
      "cell_type": "code",
      "source": [
        "# Creamos una una función llamada buscar_tweets() que toma el término de búsqueda, \n",
        "# la cantidad de tweets y el idioma como argumentos, y devuelve los tweets encontrados.\n",
        "def buscar_tweets(api, term, count=100, lang='es'):\n",
        "    try:\n",
        "        tweets = api.search(q=term, count=count, lang=lang, tweet_mode='extended')\n",
        "    except tweepy.error.TweepError as e:\n",
        "        print(f'Error: {e}')\n",
        "        tweets = []\n",
        "    return tweets\n"
      ],
      "metadata": {
        "id": "uaXW9T9TKrS5"
      },
      "execution_count": 47,
      "outputs": []
    },
    {
      "cell_type": "markdown",
      "source": [
        "La función busca tweets que contengan el término especificado, con un límite de tweets especificado y en un idioma especificado. Ademas se valida si hay algún error al buscar los tweets."
      ],
      "metadata": {
        "id": "m9eoRFnJLMNP"
      }
    },
    {
      "cell_type": "code",
      "source": [
        "# Se aplica la función con los argumentos necesarios, por ahora \n",
        "# busca automaticamente \"count\" y \"ang\" pero se puede cambiar si así se desea\n",
        "tweets = buscar_tweets(api, 'México')"
      ],
      "metadata": {
        "id": "tUIKVfn8LHOl"
      },
      "execution_count": 48,
      "outputs": []
    },
    {
      "cell_type": "code",
      "source": [
        "# definimos la función imprimir_tweets() podría ser utilizada \n",
        "# para imprimir los últimos 5 tweets encontrados. \n",
        "def imprimir_tweets(tweets):\n",
        "    if tweets:\n",
        "        print(\"Showing the 5 recent tweets: \\n\")\n",
        "        for i, tweet in enumerate(tweets[:5], 1):\n",
        "            print(f\"{i}) {tweet.full_text}\\n\")\n",
        "    else:\n",
        "        print(\"No tweets found.\")\n",
        "\"\"\"\n",
        "En esta función, se utiliza un bucle for para recorrer \n",
        "los primeros 5 tweets en la lista de tweets y se imprime el número de tweet \n",
        "y el texto completo de cada tweet. Si no hay tweets, se imprime un mensaje \n",
        "indicando que no se encontraron tweets.\n",
        "\"\"\""
      ],
      "metadata": {
        "colab": {
          "base_uri": "https://localhost:8080/",
          "height": 70
        },
        "id": "CSe4Gda8LuKY",
        "outputId": "12cbd571-ffff-4a80-ab0c-120c7028d260"
      },
      "execution_count": 49,
      "outputs": [
        {
          "output_type": "execute_result",
          "data": {
            "text/plain": [
              "'\\nEn esta función, se utiliza un bucle for para recorrer \\nlos primeros 5 tweets en la lista de tweets y se imprime el número de tweet \\ny el texto completo de cada tweet. Si no hay tweets, se imprime un mensaje \\nindicando que no se encontraron tweets.\\n'"
            ],
            "application/vnd.google.colaboratory.intrinsic+json": {
              "type": "string"
            }
          },
          "metadata": {},
          "execution_count": 49
        }
      ]
    },
    {
      "cell_type": "code",
      "source": [
        "# Ponemos en uso la función\n",
        "imprimir_tweets(tweets)"
      ],
      "metadata": {
        "colab": {
          "base_uri": "https://localhost:8080/"
        },
        "id": "vWJdKSAkL_2N",
        "outputId": "6a9cffec-015b-440e-dee5-3f6c3acd73b1"
      },
      "execution_count": 50,
      "outputs": [
        {
          "output_type": "stream",
          "name": "stdout",
          "text": [
            "Showing the 5 recent tweets: \n",
            "\n",
            "1) RT @sugadboy: — El nuevo programa de variedades de tvN \"Seojin's\" se lanzará el 24 de febrero y estará protagonizado por #V, Park Seojoon,…\n",
            "\n",
            "2) RT @jchavarria_cine: Ahora va un #comic con aire a objeto de culto. Se trata del brutal #BigManPlans de @goonguy, publicado en México por @…\n",
            "\n",
            "3) RT @MerGarza: ¿Se acuerdan cuando Debanhi se había tirado sola a la cisterna? ¿Y cuando Yolanda se quitó la vida? Pues ahora María Ángela d…\n",
            "\n",
            "4) RT @sugadboy: — El nuevo programa de variedades de tvN \"Seojin's\" se lanzará el 24 de febrero y estará protagonizado por #V, Park Seojoon,…\n",
            "\n",
            "5) RT @OaxacaPolitico: ✍🏼Columna | México debe juzgar a García Luna y a Calderón por traición a la patria y corrupción / en la opinión de ⁦@ep…\n",
            "\n"
          ]
        }
      ]
    },
    {
      "cell_type": "code",
      "source": [
        "# Este código creando una función llamada crear_dataframe() \n",
        "# que toma una lista de tweets como argumento y devuelve un \n",
        "# DataFrame con una columna llamada \"Tweets\"\n",
        "def crear_dataframe(tweets):\n",
        "    data = {'Tweets': [tweet.full_text for tweet in tweets]}\n",
        "    df = pd.DataFrame(data)\n",
        "    return df"
      ],
      "metadata": {
        "id": "uodN0-CZMANC"
      },
      "execution_count": 51,
      "outputs": []
    },
    {
      "cell_type": "code",
      "source": [
        "# Definimos una variable con nuestra función\n",
        "df = crear_dataframe(tweets)"
      ],
      "metadata": {
        "id": "XGoeWeRkPmsR"
      },
      "execution_count": 52,
      "outputs": []
    },
    {
      "cell_type": "code",
      "source": [
        "# Observamos las primeros 5 entradas \n",
        "df.head()"
      ],
      "metadata": {
        "colab": {
          "base_uri": "https://localhost:8080/",
          "height": 206
        },
        "id": "Y5ZYRrb8PuKG",
        "outputId": "8d5b477b-5d8a-4283-b6f6-f66a5f20cfa5"
      },
      "execution_count": 53,
      "outputs": [
        {
          "output_type": "execute_result",
          "data": {
            "text/plain": [
              "                                              Tweets\n",
              "0  RT @sugadboy: — El nuevo programa de variedade...\n",
              "1  RT @jchavarria_cine: Ahora va un #comic con ai...\n",
              "2  RT @MerGarza: ¿Se acuerdan cuando Debanhi se h...\n",
              "3  RT @sugadboy: — El nuevo programa de variedade...\n",
              "4  RT @OaxacaPolitico: ✍🏼Columna | México debe ju..."
            ],
            "text/html": [
              "\n",
              "  <div id=\"df-665fbbc6-a33c-4834-b207-a16b5898d790\">\n",
              "    <div class=\"colab-df-container\">\n",
              "      <div>\n",
              "<style scoped>\n",
              "    .dataframe tbody tr th:only-of-type {\n",
              "        vertical-align: middle;\n",
              "    }\n",
              "\n",
              "    .dataframe tbody tr th {\n",
              "        vertical-align: top;\n",
              "    }\n",
              "\n",
              "    .dataframe thead th {\n",
              "        text-align: right;\n",
              "    }\n",
              "</style>\n",
              "<table border=\"1\" class=\"dataframe\">\n",
              "  <thead>\n",
              "    <tr style=\"text-align: right;\">\n",
              "      <th></th>\n",
              "      <th>Tweets</th>\n",
              "    </tr>\n",
              "  </thead>\n",
              "  <tbody>\n",
              "    <tr>\n",
              "      <th>0</th>\n",
              "      <td>RT @sugadboy: — El nuevo programa de variedade...</td>\n",
              "    </tr>\n",
              "    <tr>\n",
              "      <th>1</th>\n",
              "      <td>RT @jchavarria_cine: Ahora va un #comic con ai...</td>\n",
              "    </tr>\n",
              "    <tr>\n",
              "      <th>2</th>\n",
              "      <td>RT @MerGarza: ¿Se acuerdan cuando Debanhi se h...</td>\n",
              "    </tr>\n",
              "    <tr>\n",
              "      <th>3</th>\n",
              "      <td>RT @sugadboy: — El nuevo programa de variedade...</td>\n",
              "    </tr>\n",
              "    <tr>\n",
              "      <th>4</th>\n",
              "      <td>RT @OaxacaPolitico: ✍🏼Columna | México debe ju...</td>\n",
              "    </tr>\n",
              "  </tbody>\n",
              "</table>\n",
              "</div>\n",
              "      <button class=\"colab-df-convert\" onclick=\"convertToInteractive('df-665fbbc6-a33c-4834-b207-a16b5898d790')\"\n",
              "              title=\"Convert this dataframe to an interactive table.\"\n",
              "              style=\"display:none;\">\n",
              "        \n",
              "  <svg xmlns=\"http://www.w3.org/2000/svg\" height=\"24px\"viewBox=\"0 0 24 24\"\n",
              "       width=\"24px\">\n",
              "    <path d=\"M0 0h24v24H0V0z\" fill=\"none\"/>\n",
              "    <path d=\"M18.56 5.44l.94 2.06.94-2.06 2.06-.94-2.06-.94-.94-2.06-.94 2.06-2.06.94zm-11 1L8.5 8.5l.94-2.06 2.06-.94-2.06-.94L8.5 2.5l-.94 2.06-2.06.94zm10 10l.94 2.06.94-2.06 2.06-.94-2.06-.94-.94-2.06-.94 2.06-2.06.94z\"/><path d=\"M17.41 7.96l-1.37-1.37c-.4-.4-.92-.59-1.43-.59-.52 0-1.04.2-1.43.59L10.3 9.45l-7.72 7.72c-.78.78-.78 2.05 0 2.83L4 21.41c.39.39.9.59 1.41.59.51 0 1.02-.2 1.41-.59l7.78-7.78 2.81-2.81c.8-.78.8-2.07 0-2.86zM5.41 20L4 18.59l7.72-7.72 1.47 1.35L5.41 20z\"/>\n",
              "  </svg>\n",
              "      </button>\n",
              "      \n",
              "  <style>\n",
              "    .colab-df-container {\n",
              "      display:flex;\n",
              "      flex-wrap:wrap;\n",
              "      gap: 12px;\n",
              "    }\n",
              "\n",
              "    .colab-df-convert {\n",
              "      background-color: #E8F0FE;\n",
              "      border: none;\n",
              "      border-radius: 50%;\n",
              "      cursor: pointer;\n",
              "      display: none;\n",
              "      fill: #1967D2;\n",
              "      height: 32px;\n",
              "      padding: 0 0 0 0;\n",
              "      width: 32px;\n",
              "    }\n",
              "\n",
              "    .colab-df-convert:hover {\n",
              "      background-color: #E2EBFA;\n",
              "      box-shadow: 0px 1px 2px rgba(60, 64, 67, 0.3), 0px 1px 3px 1px rgba(60, 64, 67, 0.15);\n",
              "      fill: #174EA6;\n",
              "    }\n",
              "\n",
              "    [theme=dark] .colab-df-convert {\n",
              "      background-color: #3B4455;\n",
              "      fill: #D2E3FC;\n",
              "    }\n",
              "\n",
              "    [theme=dark] .colab-df-convert:hover {\n",
              "      background-color: #434B5C;\n",
              "      box-shadow: 0px 1px 3px 1px rgba(0, 0, 0, 0.15);\n",
              "      filter: drop-shadow(0px 1px 2px rgba(0, 0, 0, 0.3));\n",
              "      fill: #FFFFFF;\n",
              "    }\n",
              "  </style>\n",
              "\n",
              "      <script>\n",
              "        const buttonEl =\n",
              "          document.querySelector('#df-665fbbc6-a33c-4834-b207-a16b5898d790 button.colab-df-convert');\n",
              "        buttonEl.style.display =\n",
              "          google.colab.kernel.accessAllowed ? 'block' : 'none';\n",
              "\n",
              "        async function convertToInteractive(key) {\n",
              "          const element = document.querySelector('#df-665fbbc6-a33c-4834-b207-a16b5898d790');\n",
              "          const dataTable =\n",
              "            await google.colab.kernel.invokeFunction('convertToInteractive',\n",
              "                                                     [key], {});\n",
              "          if (!dataTable) return;\n",
              "\n",
              "          const docLinkHtml = 'Like what you see? Visit the ' +\n",
              "            '<a target=\"_blank\" href=https://colab.research.google.com/notebooks/data_table.ipynb>data table notebook</a>'\n",
              "            + ' to learn more about interactive tables.';\n",
              "          element.innerHTML = '';\n",
              "          dataTable['output_type'] = 'display_data';\n",
              "          await google.colab.output.renderOutput(dataTable, element);\n",
              "          const docLink = document.createElement('div');\n",
              "          docLink.innerHTML = docLinkHtml;\n",
              "          element.appendChild(docLink);\n",
              "        }\n",
              "      </script>\n",
              "    </div>\n",
              "  </div>\n",
              "  "
            ]
          },
          "metadata": {},
          "execution_count": 53
        }
      ]
    },
    {
      "cell_type": "markdown",
      "source": [
        "Ahora, cramos una nueva función limpiar_texto() toma un DataFrame y un nombre de columna como argumentos, y aplica la función limpiarTexto() a cada elemento de la columna especificada, utilizando el método apply() de pandas.\n",
        "Además, se encapusula la función limpiarTexto() dentro de la función limpiar_texto() para mejorar la legibilidad del código y para poder tener un mejor control de las variables dentro de la función. De esta manera, se evita la necesidad de declarar variables globales y se asegura que la función limpiarTexto() sólo sea utilizada dentro de limpiar_texto(). Esto también ayuda a mantener una mayor organización y modularidad en el código."
      ],
      "metadata": {
        "id": "F3yGs4D9QufY"
      }
    },
    {
      "cell_type": "code",
      "source": [
        "def limpiar_texto(df, column):\n",
        "    def limpiarTexto(text):\n",
        "        text = re.sub(r'@[A-Za-z0-9]+', '', text) # Remueve menciones\n",
        "        text = re.sub(r'#', '', text) # Remueve el simbolo '#' \n",
        "        text = re.sub(r'RT[\\s]+', '', text) # Remueve los RT\n",
        "        text = re.sub(r'https?:\\/\\/\\S+', '', text) # Remueve las ligas\n",
        "\n",
        "        return text\n",
        "    df[column] = df[column].apply(lambda x: limpiarTexto(x))\n",
        "    return df\n",
        "\n",
        "df = limpiar_texto(df, 'Tweets')"
      ],
      "metadata": {
        "id": "YASDHe4WP0Qb"
      },
      "execution_count": 54,
      "outputs": []
    },
    {
      "cell_type": "code",
      "source": [
        "# Observamos las primeros 5 entradas \n",
        "df.head()"
      ],
      "metadata": {
        "colab": {
          "base_uri": "https://localhost:8080/",
          "height": 206
        },
        "id": "_ZljlR-YRsVP",
        "outputId": "570a5390-3bcf-4db7-f4ed-1a4ad1103a9a"
      },
      "execution_count": 55,
      "outputs": [
        {
          "output_type": "execute_result",
          "data": {
            "text/plain": [
              "                                              Tweets\n",
              "0  : — El nuevo programa de variedades de tvN \"Se...\n",
              "1  _cine: Ahora va un comic con aire a objeto de ...\n",
              "2  : ¿Se acuerdan cuando Debanhi se había tirado ...\n",
              "3  : — El nuevo programa de variedades de tvN \"Se...\n",
              "4  : ✍🏼Columna | México debe juzgar a García Luna..."
            ],
            "text/html": [
              "\n",
              "  <div id=\"df-de0957f2-9873-4cca-b02d-7eadac6f5b82\">\n",
              "    <div class=\"colab-df-container\">\n",
              "      <div>\n",
              "<style scoped>\n",
              "    .dataframe tbody tr th:only-of-type {\n",
              "        vertical-align: middle;\n",
              "    }\n",
              "\n",
              "    .dataframe tbody tr th {\n",
              "        vertical-align: top;\n",
              "    }\n",
              "\n",
              "    .dataframe thead th {\n",
              "        text-align: right;\n",
              "    }\n",
              "</style>\n",
              "<table border=\"1\" class=\"dataframe\">\n",
              "  <thead>\n",
              "    <tr style=\"text-align: right;\">\n",
              "      <th></th>\n",
              "      <th>Tweets</th>\n",
              "    </tr>\n",
              "  </thead>\n",
              "  <tbody>\n",
              "    <tr>\n",
              "      <th>0</th>\n",
              "      <td>: — El nuevo programa de variedades de tvN \"Se...</td>\n",
              "    </tr>\n",
              "    <tr>\n",
              "      <th>1</th>\n",
              "      <td>_cine: Ahora va un comic con aire a objeto de ...</td>\n",
              "    </tr>\n",
              "    <tr>\n",
              "      <th>2</th>\n",
              "      <td>: ¿Se acuerdan cuando Debanhi se había tirado ...</td>\n",
              "    </tr>\n",
              "    <tr>\n",
              "      <th>3</th>\n",
              "      <td>: — El nuevo programa de variedades de tvN \"Se...</td>\n",
              "    </tr>\n",
              "    <tr>\n",
              "      <th>4</th>\n",
              "      <td>: ✍🏼Columna | México debe juzgar a García Luna...</td>\n",
              "    </tr>\n",
              "  </tbody>\n",
              "</table>\n",
              "</div>\n",
              "      <button class=\"colab-df-convert\" onclick=\"convertToInteractive('df-de0957f2-9873-4cca-b02d-7eadac6f5b82')\"\n",
              "              title=\"Convert this dataframe to an interactive table.\"\n",
              "              style=\"display:none;\">\n",
              "        \n",
              "  <svg xmlns=\"http://www.w3.org/2000/svg\" height=\"24px\"viewBox=\"0 0 24 24\"\n",
              "       width=\"24px\">\n",
              "    <path d=\"M0 0h24v24H0V0z\" fill=\"none\"/>\n",
              "    <path d=\"M18.56 5.44l.94 2.06.94-2.06 2.06-.94-2.06-.94-.94-2.06-.94 2.06-2.06.94zm-11 1L8.5 8.5l.94-2.06 2.06-.94-2.06-.94L8.5 2.5l-.94 2.06-2.06.94zm10 10l.94 2.06.94-2.06 2.06-.94-2.06-.94-.94-2.06-.94 2.06-2.06.94z\"/><path d=\"M17.41 7.96l-1.37-1.37c-.4-.4-.92-.59-1.43-.59-.52 0-1.04.2-1.43.59L10.3 9.45l-7.72 7.72c-.78.78-.78 2.05 0 2.83L4 21.41c.39.39.9.59 1.41.59.51 0 1.02-.2 1.41-.59l7.78-7.78 2.81-2.81c.8-.78.8-2.07 0-2.86zM5.41 20L4 18.59l7.72-7.72 1.47 1.35L5.41 20z\"/>\n",
              "  </svg>\n",
              "      </button>\n",
              "      \n",
              "  <style>\n",
              "    .colab-df-container {\n",
              "      display:flex;\n",
              "      flex-wrap:wrap;\n",
              "      gap: 12px;\n",
              "    }\n",
              "\n",
              "    .colab-df-convert {\n",
              "      background-color: #E8F0FE;\n",
              "      border: none;\n",
              "      border-radius: 50%;\n",
              "      cursor: pointer;\n",
              "      display: none;\n",
              "      fill: #1967D2;\n",
              "      height: 32px;\n",
              "      padding: 0 0 0 0;\n",
              "      width: 32px;\n",
              "    }\n",
              "\n",
              "    .colab-df-convert:hover {\n",
              "      background-color: #E2EBFA;\n",
              "      box-shadow: 0px 1px 2px rgba(60, 64, 67, 0.3), 0px 1px 3px 1px rgba(60, 64, 67, 0.15);\n",
              "      fill: #174EA6;\n",
              "    }\n",
              "\n",
              "    [theme=dark] .colab-df-convert {\n",
              "      background-color: #3B4455;\n",
              "      fill: #D2E3FC;\n",
              "    }\n",
              "\n",
              "    [theme=dark] .colab-df-convert:hover {\n",
              "      background-color: #434B5C;\n",
              "      box-shadow: 0px 1px 3px 1px rgba(0, 0, 0, 0.15);\n",
              "      filter: drop-shadow(0px 1px 2px rgba(0, 0, 0, 0.3));\n",
              "      fill: #FFFFFF;\n",
              "    }\n",
              "  </style>\n",
              "\n",
              "      <script>\n",
              "        const buttonEl =\n",
              "          document.querySelector('#df-de0957f2-9873-4cca-b02d-7eadac6f5b82 button.colab-df-convert');\n",
              "        buttonEl.style.display =\n",
              "          google.colab.kernel.accessAllowed ? 'block' : 'none';\n",
              "\n",
              "        async function convertToInteractive(key) {\n",
              "          const element = document.querySelector('#df-de0957f2-9873-4cca-b02d-7eadac6f5b82');\n",
              "          const dataTable =\n",
              "            await google.colab.kernel.invokeFunction('convertToInteractive',\n",
              "                                                     [key], {});\n",
              "          if (!dataTable) return;\n",
              "\n",
              "          const docLinkHtml = 'Like what you see? Visit the ' +\n",
              "            '<a target=\"_blank\" href=https://colab.research.google.com/notebooks/data_table.ipynb>data table notebook</a>'\n",
              "            + ' to learn more about interactive tables.';\n",
              "          element.innerHTML = '';\n",
              "          dataTable['output_type'] = 'display_data';\n",
              "          await google.colab.output.renderOutput(dataTable, element);\n",
              "          const docLink = document.createElement('div');\n",
              "          docLink.innerHTML = docLinkHtml;\n",
              "          element.appendChild(docLink);\n",
              "        }\n",
              "      </script>\n",
              "    </div>\n",
              "  </div>\n",
              "  "
            ]
          },
          "metadata": {},
          "execution_count": 55
        }
      ]
    },
    {
      "cell_type": "markdown",
      "source": [
        "Creamos una función llamada sentimiento(text) que toma un texto como argumento y utiliza TextBlob para calcular tanto la polaridad como la subjetividad del texto. Esta función devuelve un diccionario con las claves 'polarity' y 'subjectivity' y sus valores correspondientes. De esta manera, se evita tener que crear dos funciones separadas y se reduce la cantidad de código repetido.\n",
        "También se puede considerar eliminar las instrucciones de time.sleep ya que se pueden sobrepasar los límites de acceso a la API de twitter."
      ],
      "metadata": {
        "id": "L8Yn_iykSNjx"
      }
    },
    {
      "cell_type": "code",
      "source": [
        "def sentimiento(text):\n",
        "    text_blob = TextBlob(text).translate(from_lang='es', to='en')\n",
        "    time.sleep(5)\n",
        "    return {'polaridad': text_blob.sentiment.polarity, 'subjetividad': text_blob.sentiment.subjectivity}"
      ],
      "metadata": {
        "id": "TKlmht1eWIze"
      },
      "execution_count": 56,
      "outputs": []
    },
    {
      "cell_type": "code",
      "source": [
        "sentimientos = df['Tweets'].apply(sentimiento)\n",
        "df = df.join(sentimientos.apply(pd.Series))"
      ],
      "metadata": {
        "id": "vETcElvFWMfF"
      },
      "execution_count": 57,
      "outputs": []
    },
    {
      "cell_type": "code",
      "source": [
        "# Observamos las primeros 5 entradas \n",
        "df.head()"
      ],
      "metadata": {
        "colab": {
          "base_uri": "https://localhost:8080/",
          "height": 206
        },
        "id": "sfceP3TvTDEo",
        "outputId": "178dc36c-fb94-4b67-a05f-79cb894f8f0a"
      },
      "execution_count": 58,
      "outputs": [
        {
          "output_type": "execute_result",
          "data": {
            "text/plain": [
              "                                              Tweets  polaridad  subjetividad\n",
              "0  : — El nuevo programa de variedades de tvN \"Se...   0.136364      0.454545\n",
              "1  _cine: Ahora va un comic con aire a objeto de ...  -0.312500      0.750000\n",
              "2  : ¿Se acuerdan cuando Debanhi se había tirado ...   0.000000      0.000000\n",
              "3  : — El nuevo programa de variedades de tvN \"Se...   0.136364      0.454545\n",
              "4  : ✍🏼Columna | México debe juzgar a García Luna...   0.000000      0.000000"
            ],
            "text/html": [
              "\n",
              "  <div id=\"df-6b6ce6b5-758b-4856-88d5-29ffd078ad7f\">\n",
              "    <div class=\"colab-df-container\">\n",
              "      <div>\n",
              "<style scoped>\n",
              "    .dataframe tbody tr th:only-of-type {\n",
              "        vertical-align: middle;\n",
              "    }\n",
              "\n",
              "    .dataframe tbody tr th {\n",
              "        vertical-align: top;\n",
              "    }\n",
              "\n",
              "    .dataframe thead th {\n",
              "        text-align: right;\n",
              "    }\n",
              "</style>\n",
              "<table border=\"1\" class=\"dataframe\">\n",
              "  <thead>\n",
              "    <tr style=\"text-align: right;\">\n",
              "      <th></th>\n",
              "      <th>Tweets</th>\n",
              "      <th>polaridad</th>\n",
              "      <th>subjetividad</th>\n",
              "    </tr>\n",
              "  </thead>\n",
              "  <tbody>\n",
              "    <tr>\n",
              "      <th>0</th>\n",
              "      <td>: — El nuevo programa de variedades de tvN \"Se...</td>\n",
              "      <td>0.136364</td>\n",
              "      <td>0.454545</td>\n",
              "    </tr>\n",
              "    <tr>\n",
              "      <th>1</th>\n",
              "      <td>_cine: Ahora va un comic con aire a objeto de ...</td>\n",
              "      <td>-0.312500</td>\n",
              "      <td>0.750000</td>\n",
              "    </tr>\n",
              "    <tr>\n",
              "      <th>2</th>\n",
              "      <td>: ¿Se acuerdan cuando Debanhi se había tirado ...</td>\n",
              "      <td>0.000000</td>\n",
              "      <td>0.000000</td>\n",
              "    </tr>\n",
              "    <tr>\n",
              "      <th>3</th>\n",
              "      <td>: — El nuevo programa de variedades de tvN \"Se...</td>\n",
              "      <td>0.136364</td>\n",
              "      <td>0.454545</td>\n",
              "    </tr>\n",
              "    <tr>\n",
              "      <th>4</th>\n",
              "      <td>: ✍🏼Columna | México debe juzgar a García Luna...</td>\n",
              "      <td>0.000000</td>\n",
              "      <td>0.000000</td>\n",
              "    </tr>\n",
              "  </tbody>\n",
              "</table>\n",
              "</div>\n",
              "      <button class=\"colab-df-convert\" onclick=\"convertToInteractive('df-6b6ce6b5-758b-4856-88d5-29ffd078ad7f')\"\n",
              "              title=\"Convert this dataframe to an interactive table.\"\n",
              "              style=\"display:none;\">\n",
              "        \n",
              "  <svg xmlns=\"http://www.w3.org/2000/svg\" height=\"24px\"viewBox=\"0 0 24 24\"\n",
              "       width=\"24px\">\n",
              "    <path d=\"M0 0h24v24H0V0z\" fill=\"none\"/>\n",
              "    <path d=\"M18.56 5.44l.94 2.06.94-2.06 2.06-.94-2.06-.94-.94-2.06-.94 2.06-2.06.94zm-11 1L8.5 8.5l.94-2.06 2.06-.94-2.06-.94L8.5 2.5l-.94 2.06-2.06.94zm10 10l.94 2.06.94-2.06 2.06-.94-2.06-.94-.94-2.06-.94 2.06-2.06.94z\"/><path d=\"M17.41 7.96l-1.37-1.37c-.4-.4-.92-.59-1.43-.59-.52 0-1.04.2-1.43.59L10.3 9.45l-7.72 7.72c-.78.78-.78 2.05 0 2.83L4 21.41c.39.39.9.59 1.41.59.51 0 1.02-.2 1.41-.59l7.78-7.78 2.81-2.81c.8-.78.8-2.07 0-2.86zM5.41 20L4 18.59l7.72-7.72 1.47 1.35L5.41 20z\"/>\n",
              "  </svg>\n",
              "      </button>\n",
              "      \n",
              "  <style>\n",
              "    .colab-df-container {\n",
              "      display:flex;\n",
              "      flex-wrap:wrap;\n",
              "      gap: 12px;\n",
              "    }\n",
              "\n",
              "    .colab-df-convert {\n",
              "      background-color: #E8F0FE;\n",
              "      border: none;\n",
              "      border-radius: 50%;\n",
              "      cursor: pointer;\n",
              "      display: none;\n",
              "      fill: #1967D2;\n",
              "      height: 32px;\n",
              "      padding: 0 0 0 0;\n",
              "      width: 32px;\n",
              "    }\n",
              "\n",
              "    .colab-df-convert:hover {\n",
              "      background-color: #E2EBFA;\n",
              "      box-shadow: 0px 1px 2px rgba(60, 64, 67, 0.3), 0px 1px 3px 1px rgba(60, 64, 67, 0.15);\n",
              "      fill: #174EA6;\n",
              "    }\n",
              "\n",
              "    [theme=dark] .colab-df-convert {\n",
              "      background-color: #3B4455;\n",
              "      fill: #D2E3FC;\n",
              "    }\n",
              "\n",
              "    [theme=dark] .colab-df-convert:hover {\n",
              "      background-color: #434B5C;\n",
              "      box-shadow: 0px 1px 3px 1px rgba(0, 0, 0, 0.15);\n",
              "      filter: drop-shadow(0px 1px 2px rgba(0, 0, 0, 0.3));\n",
              "      fill: #FFFFFF;\n",
              "    }\n",
              "  </style>\n",
              "\n",
              "      <script>\n",
              "        const buttonEl =\n",
              "          document.querySelector('#df-6b6ce6b5-758b-4856-88d5-29ffd078ad7f button.colab-df-convert');\n",
              "        buttonEl.style.display =\n",
              "          google.colab.kernel.accessAllowed ? 'block' : 'none';\n",
              "\n",
              "        async function convertToInteractive(key) {\n",
              "          const element = document.querySelector('#df-6b6ce6b5-758b-4856-88d5-29ffd078ad7f');\n",
              "          const dataTable =\n",
              "            await google.colab.kernel.invokeFunction('convertToInteractive',\n",
              "                                                     [key], {});\n",
              "          if (!dataTable) return;\n",
              "\n",
              "          const docLinkHtml = 'Like what you see? Visit the ' +\n",
              "            '<a target=\"_blank\" href=https://colab.research.google.com/notebooks/data_table.ipynb>data table notebook</a>'\n",
              "            + ' to learn more about interactive tables.';\n",
              "          element.innerHTML = '';\n",
              "          dataTable['output_type'] = 'display_data';\n",
              "          await google.colab.output.renderOutput(dataTable, element);\n",
              "          const docLink = document.createElement('div');\n",
              "          docLink.innerHTML = docLinkHtml;\n",
              "          element.appendChild(docLink);\n",
              "        }\n",
              "      </script>\n",
              "    </div>\n",
              "  </div>\n",
              "  "
            ]
          },
          "metadata": {},
          "execution_count": 58
        }
      ]
    },
    {
      "cell_type": "code",
      "source": [
        "# Creaos una función para analizar la polaridad de los datos\n",
        "df['analisis'] = df['polaridad'].apply(lambda score: 'Negativo' if score < 0 else ('Neutral' if score == 0 else 'Positivo'))\n"
      ],
      "metadata": {
        "id": "OYUuhacDbR7o"
      },
      "execution_count": 59,
      "outputs": []
    },
    {
      "cell_type": "code",
      "source": [
        "# Observamos las primeros 5 entradas \n",
        "df.head()"
      ],
      "metadata": {
        "colab": {
          "base_uri": "https://localhost:8080/",
          "height": 206
        },
        "id": "Q55UTywcb_ei",
        "outputId": "2dea6c49-af81-49ee-f2ca-e393cc2e964c"
      },
      "execution_count": 60,
      "outputs": [
        {
          "output_type": "execute_result",
          "data": {
            "text/plain": [
              "                                              Tweets  polaridad  subjetividad  \\\n",
              "0  : — El nuevo programa de variedades de tvN \"Se...   0.136364      0.454545   \n",
              "1  _cine: Ahora va un comic con aire a objeto de ...  -0.312500      0.750000   \n",
              "2  : ¿Se acuerdan cuando Debanhi se había tirado ...   0.000000      0.000000   \n",
              "3  : — El nuevo programa de variedades de tvN \"Se...   0.136364      0.454545   \n",
              "4  : ✍🏼Columna | México debe juzgar a García Luna...   0.000000      0.000000   \n",
              "\n",
              "   analisis  \n",
              "0  Positivo  \n",
              "1  Negativo  \n",
              "2   Neutral  \n",
              "3  Positivo  \n",
              "4   Neutral  "
            ],
            "text/html": [
              "\n",
              "  <div id=\"df-6334c8e3-3ba6-4cbb-a386-e4973e34bf53\">\n",
              "    <div class=\"colab-df-container\">\n",
              "      <div>\n",
              "<style scoped>\n",
              "    .dataframe tbody tr th:only-of-type {\n",
              "        vertical-align: middle;\n",
              "    }\n",
              "\n",
              "    .dataframe tbody tr th {\n",
              "        vertical-align: top;\n",
              "    }\n",
              "\n",
              "    .dataframe thead th {\n",
              "        text-align: right;\n",
              "    }\n",
              "</style>\n",
              "<table border=\"1\" class=\"dataframe\">\n",
              "  <thead>\n",
              "    <tr style=\"text-align: right;\">\n",
              "      <th></th>\n",
              "      <th>Tweets</th>\n",
              "      <th>polaridad</th>\n",
              "      <th>subjetividad</th>\n",
              "      <th>analisis</th>\n",
              "    </tr>\n",
              "  </thead>\n",
              "  <tbody>\n",
              "    <tr>\n",
              "      <th>0</th>\n",
              "      <td>: — El nuevo programa de variedades de tvN \"Se...</td>\n",
              "      <td>0.136364</td>\n",
              "      <td>0.454545</td>\n",
              "      <td>Positivo</td>\n",
              "    </tr>\n",
              "    <tr>\n",
              "      <th>1</th>\n",
              "      <td>_cine: Ahora va un comic con aire a objeto de ...</td>\n",
              "      <td>-0.312500</td>\n",
              "      <td>0.750000</td>\n",
              "      <td>Negativo</td>\n",
              "    </tr>\n",
              "    <tr>\n",
              "      <th>2</th>\n",
              "      <td>: ¿Se acuerdan cuando Debanhi se había tirado ...</td>\n",
              "      <td>0.000000</td>\n",
              "      <td>0.000000</td>\n",
              "      <td>Neutral</td>\n",
              "    </tr>\n",
              "    <tr>\n",
              "      <th>3</th>\n",
              "      <td>: — El nuevo programa de variedades de tvN \"Se...</td>\n",
              "      <td>0.136364</td>\n",
              "      <td>0.454545</td>\n",
              "      <td>Positivo</td>\n",
              "    </tr>\n",
              "    <tr>\n",
              "      <th>4</th>\n",
              "      <td>: ✍🏼Columna | México debe juzgar a García Luna...</td>\n",
              "      <td>0.000000</td>\n",
              "      <td>0.000000</td>\n",
              "      <td>Neutral</td>\n",
              "    </tr>\n",
              "  </tbody>\n",
              "</table>\n",
              "</div>\n",
              "      <button class=\"colab-df-convert\" onclick=\"convertToInteractive('df-6334c8e3-3ba6-4cbb-a386-e4973e34bf53')\"\n",
              "              title=\"Convert this dataframe to an interactive table.\"\n",
              "              style=\"display:none;\">\n",
              "        \n",
              "  <svg xmlns=\"http://www.w3.org/2000/svg\" height=\"24px\"viewBox=\"0 0 24 24\"\n",
              "       width=\"24px\">\n",
              "    <path d=\"M0 0h24v24H0V0z\" fill=\"none\"/>\n",
              "    <path d=\"M18.56 5.44l.94 2.06.94-2.06 2.06-.94-2.06-.94-.94-2.06-.94 2.06-2.06.94zm-11 1L8.5 8.5l.94-2.06 2.06-.94-2.06-.94L8.5 2.5l-.94 2.06-2.06.94zm10 10l.94 2.06.94-2.06 2.06-.94-2.06-.94-.94-2.06-.94 2.06-2.06.94z\"/><path d=\"M17.41 7.96l-1.37-1.37c-.4-.4-.92-.59-1.43-.59-.52 0-1.04.2-1.43.59L10.3 9.45l-7.72 7.72c-.78.78-.78 2.05 0 2.83L4 21.41c.39.39.9.59 1.41.59.51 0 1.02-.2 1.41-.59l7.78-7.78 2.81-2.81c.8-.78.8-2.07 0-2.86zM5.41 20L4 18.59l7.72-7.72 1.47 1.35L5.41 20z\"/>\n",
              "  </svg>\n",
              "      </button>\n",
              "      \n",
              "  <style>\n",
              "    .colab-df-container {\n",
              "      display:flex;\n",
              "      flex-wrap:wrap;\n",
              "      gap: 12px;\n",
              "    }\n",
              "\n",
              "    .colab-df-convert {\n",
              "      background-color: #E8F0FE;\n",
              "      border: none;\n",
              "      border-radius: 50%;\n",
              "      cursor: pointer;\n",
              "      display: none;\n",
              "      fill: #1967D2;\n",
              "      height: 32px;\n",
              "      padding: 0 0 0 0;\n",
              "      width: 32px;\n",
              "    }\n",
              "\n",
              "    .colab-df-convert:hover {\n",
              "      background-color: #E2EBFA;\n",
              "      box-shadow: 0px 1px 2px rgba(60, 64, 67, 0.3), 0px 1px 3px 1px rgba(60, 64, 67, 0.15);\n",
              "      fill: #174EA6;\n",
              "    }\n",
              "\n",
              "    [theme=dark] .colab-df-convert {\n",
              "      background-color: #3B4455;\n",
              "      fill: #D2E3FC;\n",
              "    }\n",
              "\n",
              "    [theme=dark] .colab-df-convert:hover {\n",
              "      background-color: #434B5C;\n",
              "      box-shadow: 0px 1px 3px 1px rgba(0, 0, 0, 0.15);\n",
              "      filter: drop-shadow(0px 1px 2px rgba(0, 0, 0, 0.3));\n",
              "      fill: #FFFFFF;\n",
              "    }\n",
              "  </style>\n",
              "\n",
              "      <script>\n",
              "        const buttonEl =\n",
              "          document.querySelector('#df-6334c8e3-3ba6-4cbb-a386-e4973e34bf53 button.colab-df-convert');\n",
              "        buttonEl.style.display =\n",
              "          google.colab.kernel.accessAllowed ? 'block' : 'none';\n",
              "\n",
              "        async function convertToInteractive(key) {\n",
              "          const element = document.querySelector('#df-6334c8e3-3ba6-4cbb-a386-e4973e34bf53');\n",
              "          const dataTable =\n",
              "            await google.colab.kernel.invokeFunction('convertToInteractive',\n",
              "                                                     [key], {});\n",
              "          if (!dataTable) return;\n",
              "\n",
              "          const docLinkHtml = 'Like what you see? Visit the ' +\n",
              "            '<a target=\"_blank\" href=https://colab.research.google.com/notebooks/data_table.ipynb>data table notebook</a>'\n",
              "            + ' to learn more about interactive tables.';\n",
              "          element.innerHTML = '';\n",
              "          dataTable['output_type'] = 'display_data';\n",
              "          await google.colab.output.renderOutput(dataTable, element);\n",
              "          const docLink = document.createElement('div');\n",
              "          docLink.innerHTML = docLinkHtml;\n",
              "          element.appendChild(docLink);\n",
              "        }\n",
              "      </script>\n",
              "    </div>\n",
              "  </div>\n",
              "  "
            ]
          },
          "metadata": {},
          "execution_count": 60
        }
      ]
    },
    {
      "cell_type": "code",
      "source": [
        "# El código ordena los tweets de un dataframe \"df\" por su polaridad y\n",
        "# luego imprime los tweets con análisis \"Positivo\" en orden. \n",
        "# Cada tweet impreso tiene un número delante de él (empezando en 1) y un salto de línea después.\n",
        "sortedDF = df.sort_values(by=['polaridad'])\n",
        "positive_tweets = [f\"{i+1}) {tweet}\" for i, tweet in enumerate(sortedDF[sortedDF['analisis'] == 'Positivo']['Tweets'])]\n",
        "for tweet in positive_tweets:\n",
        "    print(tweet)\n",
        "    print()\n"
      ],
      "metadata": {
        "colab": {
          "base_uri": "https://localhost:8080/"
        },
        "id": "GwLhXX1HcLIu",
        "outputId": "3389ddfd-8257-47cc-835a-abff314e340f"
      },
      "execution_count": 61,
      "outputs": [
        {
          "output_type": "stream",
          "name": "stdout",
          "text": [
            "1) _OCDE: A pesar de los avances, México tiene el gasto público social más bajo de los países OCDE. Colombia y Costa Rica también…\n",
            "\n",
            "2) _NUEVO_CLON   No te parece ser colonia que te quiten la mitad del país? California y Texas legalmente siguen siendo de México de facto no, cualquier gringo entra aquí no cualquiera entra a Estados Unidos. Si yo tampoco estoy de acuerdo.\n",
            "\n",
            "3) : Detuvieron a Ovidio por pedido de extradición de EU.\n",
            "\n",
            "No tenía órdenes de aprehensión en México, a pesar de la violenci…\n",
            "\n",
            "4) : La defensa de la democracia está en marcha. Los Diputados Federales de Va por México presentamos ante la  una acci…\n",
            "\n",
            "5) Todo listo para el 20º Festival Internacional de Cine Judío México  \n",
            "\n",
            " \n",
            "\n",
            "6) 🚨📢| Instalan postes metálicos y lámparas LED para garantizar servicio de alumbrado público en Amozoc.\n",
            "\n",
            "Puebla México Noticias Compartir ResonanciaInformativa\n",
            "\n",
            "⬇️Nota completa ⬇️\n",
            " \n",
            "\n",
            "7) : La defensa de la democracia está en marcha. Los Diputados Federales de Va por México presentamos ante la  una acci…\n",
            "\n",
            "8) : La defensa de la democracia está en marcha. Los Diputados Federales de Va por México presentamos ante la  una acci…\n",
            "\n",
            "9) _ 16\n",
            "Mexico\n",
            "1,64\n",
            "Soft\n",
            " Bi(?\n",
            "...\n",
            "\n",
            "10) Entérate 🔴 La cónsul general de México en San Francisco, Remedios Gómez Arnau, dijo que personal diplomático se presentó en la corte en la que es procesado Chunli Zhao, trabajador agrícola responsable de los tiroteos \n",
            "\n",
            "11) : — El nuevo programa de variedades de tvN \"Seojin's\" se lanzará el 24 de febrero y estará protagonizado por V, Park Seojoon,…\n",
            "\n",
            "12) Se realizará nueva audiencia sobre el caso de la \"Estafa Maestra\"\n",
            "\n",
            "\n",
            "\n",
            "13) GreenCorp| Tania Díaz es la nueva country manager para liderar el crecimiento en México de Calidad Cloud, , empresa especializada en la gestión para controlar procesos constructivos y postventa \n",
            "\n",
            "\n",
            "14) : — El nuevo programa de variedades de tvN \"Seojin's\" se lanzará el 24 de febrero y estará protagonizado por V, Park Seojoon,…\n",
            "\n",
            "15) : — El nuevo programa de variedades de tvN \"Seojin's\" se lanzará el 24 de febrero y estará protagonizado por V, Park Seojoon,…\n",
            "\n",
            "16) : — El nuevo programa de variedades de tvN \"Seojin's\" se lanzará el 24 de febrero y estará protagonizado por V, Park Seojoon,…\n",
            "\n",
            "17) : — El nuevo programa de variedades de tvN \"Seojin's\" se lanzará el 24 de febrero y estará protagonizado por V, Park Seojoon,…\n",
            "\n",
            "18) : — El nuevo programa de variedades de tvN \"Seojin's\" se lanzará el 24 de febrero y estará protagonizado por V, Park Seojoon,…\n",
            "\n",
            "19) ▪️ El nuevo programa de variedades de tvN \"Seojin's\" se lanzará el 24 de febrero y estará protagonizado por V, Park Seojoon, Choi Wooshik, Jung Yumi y Lee Seojin. Este es el programa para el cuál visitaron México.\n",
            "\n",
            "(+)\n",
            "\n",
            "_twt \n",
            "\n",
            "20) _Oficial: 💫 ¡@_CarlosRivera rompe su propio récord! Luego de agotar tres fechas seguidas el , abrió una nueva para el 2…\n",
            "\n",
            "21) 🍔 El proyecto “Experiencia del futuro”, de McDonald’s, dispondrá tiendas renovadas que ofrecerán a los comensales de México un servicio más digital.\n",
            " tiene los detalles: \n",
            "\n",
            "22) : Mientras Pedro Castillo agradece en este comunicado a los Presidentes de México, Colombia, Honduras, Argentina, Cuba, Bol…\n",
            "\n",
            "23) 🎥|| ¡ Ha sido publicado un nuevo video Teaser para la vista previa del primer episodio del programa de variedades/cocina de tvN \"Seojin's grabado en México en donde Kim TAEHYUNG ha sido confirmado como parte del elenco principal!\n",
            "\n",
            "_twt | BTSV \n",
            "\n",
            "\n",
            "24) : La mayoría de los asesinos seriales pasan por eventos traumáticos que determinan su forma de actuar y pensar. En México hub…\n",
            "\n",
            "25) _: \"El programa de TVN 'SeoJin' que fue grabado en México. Emitirá su primer episodio el 24 de febrero [Viernes] 8:50pm por tvN…\n",
            "\n",
            "26) : pov: tae desde el primer episodio del programa en México \n",
            "\n",
            "27) : México necesita urgentemente técnicos y especialistas en óptica y fotónica.\n",
            "\n",
            "En el  nos interesa impulsar…\n",
            "\n",
            "28) : La derecha mediática ha difamado y calumniado permanente a AMLO _ , sus ataques se recrudecieron después del…\n",
            "\n",
            "29)  Tengo mis dudas, no creo que sea más idiot4 que el que tenemos en México. El de aquí está listo para la basura 🤷🏻 \n",
            "\n",
            "30) 🇲🇽 NACIONAL | LLa Facultad de Estudios Superiores Aragón (FES Aragón) de la Universidad Nacional Autónoma de México confirmó el pasado 11 de enero plagio en la tesis de la ministra.\n",
            "\n",
            "\n",
            "\n",
            "31) : López Obrador está más pendiente del juicio de García Luna que de México. \n",
            "\n",
            "\n",
            "\n",
            "32) : Pues les comento que el Ovidio que no es Ovidio quedara libre pronto, por que en EEUU no hay orden de extradición y en Méxic…\n",
            "\n",
            "33) 📱 I 21.01.23 🐟\n",
            "\n",
            "[esp]: \"BOSS, feliz vispera de año nuevo.\"\n",
            "\n",
            "[eng]: \"Happy New Year's Eve, BOSS.\"\n",
            "\n",
            "©boss_mexico\n",
            "\n",
            "YuZeYu Zeyu 泽宇 于泽宇 \n",
            "BOYSTORY \n",
            "\n",
            "34) _dico50: Contundente el informe del ⁦⁩ sobre México; El Sexenio Perdido ⁦_Mexico⁩ \n",
            "\n",
            "35) :  No me voy a reír porque perfectamente sería yo cuando Taylor Swift venga a México 🇲🇽\n",
            "\n",
            "36)  _ Compatriotas de la oposición. No se dejen engañar. No es defender al INE, es defender los privilegios de las ratas prianistas y de los que se creen dueños de Mexico. Si amas Mexico, lee en que consiste el plan B. Todos por un Mexico democrático y justo!! Si al plan B\n",
            "\n",
            "37) : No pude contener mis lágrimas \n",
            "hoy con @_VicenteSerrano 😢\n",
            "\n",
            "El tristísimo adiós de  estrujó mi alma:\n",
            "\n",
            "México…\n",
            "\n"
          ]
        }
      ]
    },
    {
      "cell_type": "code",
      "source": [
        "# Ahora, el código ordena los tweets de un dataframe \"df\" por su polaridad en orden descendente, \n",
        "# y luego imprime los tweets con análisis \"Negativo\" en orden. Cada tweet impreso tiene un \n",
        "# número delante de él (empezando en 1) y un salto de línea después.\n",
        "sortedDF = df.sort_values(by=['polaridad'], ascending=False)\n",
        "negative_tweets = [f\"{i+1}) {tweet}\" for i, tweet in enumerate(sortedDF[sortedDF['analisis'] == 'Negativo']['Tweets'])]\n",
        "for tweet in negative_tweets:\n",
        "    print(tweet)\n",
        "    print()\n"
      ],
      "metadata": {
        "colab": {
          "base_uri": "https://localhost:8080/"
        },
        "id": "KuYGV9GCnF7z",
        "outputId": "02c9693d-f5e5-4ded-f6d5-1f174b2cef12"
      },
      "execution_count": 62,
      "outputs": [
        {
          "output_type": "stream",
          "name": "stdout",
          "text": [
            "1) : Las elecciones en México no están en peligro por la reducción del presupuesto para el , afirmó el presidente And…\n",
            "\n",
            "2) _: La política exterior del Presidente de México, _,  se fundamenta en el respeto y el fortalecimiento de la…\n",
            "\n",
            "3) : El siguiente presidente de México, si no tiene complejo de dictador, debe regresar su residencia a Los Pinos, de dónde n…\n",
            "\n",
            "4) _ebrard, negó los comentarios del exsecretario de Estado de Estados Unidos, Mike Pompeo, sobre llegar a un acuerdo en secreto para permitir el programa “Quédate en México\". 🤔😞 \n",
            "\n",
            "5) Nacional 🔴|| Una persona muerta, 11 lesionados y una fuga de gas fue el saldo del accidente en la autopista Chamapa-Lechería, a la altura del municipio de Naucalpan, en el Estado de México.\n",
            "\n",
            "\n",
            "\n",
            "6)   El color verde pálido, representa el saqueo a una institución que debería ser garante de la democracia, pero esta secuestra por un grupo que se creen dueños de México. 🐀🐀🐀🐀🐀🐀\n",
            "\n",
            "7) __CL: [📌 | 26.01.23] De acuerdo a K-Media, la primera emisión de ‘Seojin's’ se realizará el día 24 de Febrero, el programa cuenta co…\n",
            "\n",
            "8) __CL: [📌 | 26.01.23] De acuerdo a K-Media, la primera emisión de ‘Seojin's’ se realizará el día 24 de Febrero, el programa cuenta co…\n",
            "\n",
            "9) __CL: [📌 | 26.01.23] De acuerdo a K-Media, la primera emisión de ‘Seojin's’ se realizará el día 24 de Febrero, el programa cuenta co…\n",
            "\n",
            "10) El patético _Pietra justifica la violencia contra los periodistas, no sorprende. Ese es el nivel del \"periodismo deportivo\" mexicano. Por tipos como como esos México es el lugar más peligroso del mundo para ejercer el periodismo. Vaya imbécil. Lamentable \n",
            "\n",
            "11) _cine: Ahora va un comic con aire a objeto de culto. Se trata del brutal BigManPlans de , publicado en México por @…\n",
            "\n",
            "12) : “45 minutos, si el partido no se va ganando es una mentadera de madre…” - Martinoli\n",
            "\n",
            "El termómetro de los partidos de…\n",
            "\n",
            "13) : La realidad y las decisiones de López desnudan la verdad del acuerdo secreto entre Trump y Ebrard. por la ineptitud de López…\n",
            "\n",
            "14) : La marcha del 26 de febrero escencial acudir para defender al INE y detener al tirano y corrupto que gobierna, no hay pretex…\n",
            "\n",
            "15) : El Banco Mundial indicó que la economía de México será la de peor comportamiento en Latinoamérica.\n",
            "\n",
            "\n"
          ]
        }
      ]
    },
    {
      "cell_type": "markdown",
      "source": [
        "El siquiente código crea un gráfico de dispersión donde se representa la polaridad y subjetividad de cada tweet en un dataframe \"df\". Utiliza un bucle \"for\" para recorrer todas las filas del dataframe y utiliza la función \"scatter\" de la librería \"matplotlib\" para dibujar un punto en el gráfico para cada valor de polaridad y subjetividad. También se establecen títulos y etiquetas para los ejes x e y."
      ],
      "metadata": {
        "id": "baNuS3t6nerm"
      }
    },
    {
      "cell_type": "code",
      "source": [
        "df.plot.scatter(x='polaridad', y='subjetividad', color='blue', figsize=(8,6))\n",
        "plt.title('Análisis de sentimientos')\n",
        "plt.xlabel('Polaridad')\n",
        "plt.ylabel('Subjetividad')\n",
        "plt.show()"
      ],
      "metadata": {
        "colab": {
          "base_uri": "https://localhost:8080/",
          "height": 441
        },
        "id": "Z8zBSmPRnOSB",
        "outputId": "c1bec05c-05f3-469a-ae30-b63a3afab4cc"
      },
      "execution_count": 63,
      "outputs": [
        {
          "output_type": "display_data",
          "data": {
            "text/plain": [
              "<Figure size 576x432 with 1 Axes>"
            ],
            "image/png": "[encoded data removed]"
          },
          "metadata": {}
        }
      ]
    },
    {
      "cell_type": "code",
      "source": [
        "# Calculamos el porcentaje de tweets positivos\n",
        "df['analisis'].eq('Positivo').mean() * 100"
      ],
      "metadata": {
        "colab": {
          "base_uri": "https://localhost:8080/"
        },
        "id": "BreP0e1Xnn9y",
        "outputId": "7d45718a-ae5d-4076-c4a6-bcabf250c7f2"
      },
      "execution_count": 64,
      "outputs": [
        {
          "output_type": "execute_result",
          "data": {
            "text/plain": [
              "37.0"
            ]
          },
          "metadata": {},
          "execution_count": 64
        }
      ]
    },
    {
      "cell_type": "code",
      "source": [
        "# Calculamos el porcentaje de tweets positivos\n",
        "df['analisis'].eq('Negativo').mean() * 100"
      ],
      "metadata": {
        "colab": {
          "base_uri": "https://localhost:8080/"
        },
        "id": "4torfjpZoDIi",
        "outputId": "3f0fe332-f007-4f0d-d967-11c90d98af71"
      },
      "execution_count": 65,
      "outputs": [
        {
          "output_type": "execute_result",
          "data": {
            "text/plain": [
              "15.0"
            ]
          },
          "metadata": {},
          "execution_count": 65
        }
      ]
    },
    {
      "cell_type": "code",
      "source": [
        "# Realizamos un gráfico de barras\n",
        "df['analisis'].value_counts().plot.bar(title='Analisis de sentimientos API - twitter', xlabel='Sentimiento', ylabel='Número de Tweets')\n"
      ],
      "metadata": {
        "colab": {
          "base_uri": "https://localhost:8080/",
          "height": 391
        },
        "id": "s9RCtF3SoVrv",
        "outputId": "1b982a09-bebc-4f72-9238-e3c8696ddc75"
      },
      "execution_count": 66,
      "outputs": [
        {
          "output_type": "execute_result",
          "data": {
            "text/plain": [
              "<matplotlib.axes._subplots.AxesSubplot at 0x7f4227a79280>"
            ]
          },
          "metadata": {},
          "execution_count": 66
        },
        {
          "output_type": "display_data",
          "data": {
            "text/plain": [
              "<Figure size 432x288 with 1 Axes>"
            ],
            "image/png": "[encoded data removed]"
          },
          "metadata": {}
        }
      ]
    },
    {
      "cell_type": "markdown",
      "source": [
        "####**Bibliografía**\n",
        "\"Sarkar, D. (2015). Text Analytics with Python: A Practical Real-World Approach.\n",
        "\n",
        "Perkins, J. (2013). Python Text Processing with NLTK 2.0 Cookbook.\n",
        "\n",
        "Bonzanini, M. (2015). Mastering Social Media Mining with Python.\n",
        "\n",
        "Combs, A. T. (2015). Python Machine Learning Blueprints: Intuitive data projects you can relate to.\n",
        "\n",
        "Portilla, J. (2016). Python for Data Analysis and Visualization - Learn python by doing.\""
      ],
      "metadata": {
        "id": "t2EPvHdh254L"
      }
    }
  ]
}